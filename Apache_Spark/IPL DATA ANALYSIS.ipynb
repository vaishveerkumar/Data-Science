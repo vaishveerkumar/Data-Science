{
 "cells": [
  {
   "cell_type": "code",
   "execution_count": 0,
   "metadata": {
    "application/vnd.databricks.v1+cell": {
     "cellMetadata": {
      "byteLimit": 2048000,
      "rowLimit": 10000
     },
     "inputWidgets": {},
     "nuid": "afe9b8e7-15f9-4ab5-9e73-d3820748de50",
     "showTitle": false,
     "title": ""
    }
   },
   "outputs": [],
   "source": [
    "#creating a spark session \n",
    "\n",
    "from pyspark.sql import SparkSession\n",
    "\n",
    "#using the imported lib to either get the app or create it\n",
    "\n",
    "spark = SparkSession.builder.appName(\"IPL DATA ANALYSIS\").getOrCreate()\n"
   ]
  },
  {
   "cell_type": "code",
   "execution_count": 0,
   "metadata": {
    "application/vnd.databricks.v1+cell": {
     "cellMetadata": {
      "byteLimit": 2048000,
      "rowLimit": 10000
     },
     "inputWidgets": {},
     "nuid": "9d2a93c8-b5e6-4f6a-adbd-dc032e13b1d3",
     "showTitle": false,
     "title": ""
    }
   },
   "outputs": [
    {
     "output_type": "display_data",
     "data": {
      "text/html": [
       "\n",
       "            <div>\n",
       "                <p><b>SparkSession - hive</b></p>\n",
       "                \n",
       "        <div>\n",
       "            <p><b>SparkContext</b></p>\n",
       "\n",
       "            <p><a href=\"/?o=3931664756711338#setting/sparkui/0519-201644-pjmkwns5/driver-2816211146986198290\">Spark UI</a></p>\n",
       "\n",
       "            <dl>\n",
       "              <dt>Version</dt>\n",
       "                <dd><code>v3.3.2</code></dd>\n",
       "              <dt>Master</dt>\n",
       "                <dd><code>local[8]</code></dd>\n",
       "              <dt>AppName</dt>\n",
       "                <dd><code>Databricks Shell</code></dd>\n",
       "            </dl>\n",
       "        </div>\n",
       "        \n",
       "            </div>\n",
       "        "
      ]
     },
     "metadata": {
      "application/vnd.databricks.v1+output": {
       "addedWidgets": {},
       "arguments": {},
       "data": "\n            <div>\n                <p><b>SparkSession - hive</b></p>\n                \n        <div>\n            <p><b>SparkContext</b></p>\n\n            <p><a href=\"/?o=3931664756711338#setting/sparkui/0519-201644-pjmkwns5/driver-2816211146986198290\">Spark UI</a></p>\n\n            <dl>\n              <dt>Version</dt>\n                <dd><code>v3.3.2</code></dd>\n              <dt>Master</dt>\n                <dd><code>local[8]</code></dd>\n              <dt>AppName</dt>\n                <dd><code>Databricks Shell</code></dd>\n            </dl>\n        </div>\n        \n            </div>\n        ",
       "datasetInfos": [],
       "metadata": {},
       "removedWidgets": [],
       "textData": null,
       "type": "htmlSandbox"
      }
     },
     "output_type": "display_data"
    }
   ],
   "source": [
    "spark"
   ]
  },
  {
   "cell_type": "code",
   "execution_count": 0,
   "metadata": {
    "application/vnd.databricks.v1+cell": {
     "cellMetadata": {
      "byteLimit": 2048000,
      "rowLimit": 10000
     },
     "inputWidgets": {},
     "nuid": "92a3d11d-6e42-43f2-aa85-2dbe89b3150a",
     "showTitle": false,
     "title": ""
    }
   },
   "outputs": [],
   "source": [
    "#reading data from Darshil Parmar's S3 bucket\n",
    "\n",
    "#this code does not infer schema: ball_by_ball_df = spark.read.format(\"csv\").option(\"header\",\"true\").load(\"s3://ipl-data-analysis-project/Ball_By_Ball.csv\")\n",
    "\n",
    "#this code infers schema but some inconsistencies in detection: ball_by_ball_df = spark.read.format(\"csv\").option(\"header\",\"true\").option(\"inferSchema\",\"true\").load(\"s3://ipl-data-analysis-project/Ball_By_Ball.csv\")\n",
    "\n",
    "#manually defining the schema\n",
    "from pyspark.sql.types import StructField, StructType, IntegerType, StringType, BooleanType, DateType, DecimalType\n",
    "\n",
    "ball_by_ball_schema = StructType([\n",
    "    StructField(\"match_id\", IntegerType(), True), #true indicates nullable \n",
    "    StructField(\"over_id\", IntegerType(), True),\n",
    "    StructField(\"ball_id\", IntegerType(), True),\n",
    "    StructField(\"innings_no\", IntegerType(), True),\n",
    "    StructField(\"team_batting\", StringType(), True),\n",
    "    StructField(\"team_bowling\", StringType(), True),\n",
    "    StructField(\"striker_batting_position\", IntegerType(), True),\n",
    "    StructField(\"extra_type\", StringType(), True),\n",
    "    StructField(\"runs_scored\", IntegerType(), True),\n",
    "    StructField(\"extra_runs\", IntegerType(), True),\n",
    "    StructField(\"wides\", IntegerType(), True),\n",
    "    StructField(\"legbyes\", IntegerType(), True),\n",
    "    StructField(\"byes\", IntegerType(), True),\n",
    "    StructField(\"noballs\", IntegerType(), True),\n",
    "    StructField(\"penalty\", IntegerType(), True),\n",
    "    StructField(\"bowler_extras\", IntegerType(), True),\n",
    "    StructField(\"out_type\", StringType(), True),\n",
    "    StructField(\"caught\", BooleanType(), True),\n",
    "    StructField(\"bowled\", BooleanType(), True),\n",
    "    StructField(\"run_out\", BooleanType(), True),\n",
    "    StructField(\"lbw\", BooleanType(), True),\n",
    "    StructField(\"retired_hurt\", BooleanType(), True),\n",
    "    StructField(\"stumped\", BooleanType(), True),\n",
    "    StructField(\"caught_and_bowled\", BooleanType(), True),\n",
    "    StructField(\"hit_wicket\", BooleanType(), True),\n",
    "    StructField(\"obstructingfeild\", BooleanType(), True),\n",
    "    StructField(\"bowler_wicket\", BooleanType(), True),\n",
    "    StructField(\"match_date\", DateType(), True),\n",
    "    StructField(\"season\", IntegerType(), True),\n",
    "    StructField(\"striker\", IntegerType(), True),\n",
    "    StructField(\"non_striker\", IntegerType(), True),\n",
    "    StructField(\"bowler\", IntegerType(), True),\n",
    "    StructField(\"player_out\", IntegerType(), True),\n",
    "    StructField(\"fielders\", IntegerType(), True),\n",
    "    StructField(\"striker_match_sk\", IntegerType(), True),\n",
    "    StructField(\"strikersk\", IntegerType(), True),\n",
    "    StructField(\"nonstriker_match_sk\", IntegerType(), True),\n",
    "    StructField(\"nonstriker_sk\", IntegerType(), True),\n",
    "    StructField(\"fielder_match_sk\", IntegerType(), True),\n",
    "    StructField(\"fielder_sk\", IntegerType(), True),\n",
    "    StructField(\"bowler_match_sk\", IntegerType(), True),\n",
    "    StructField(\"bowler_sk\", IntegerType(), True),\n",
    "    StructField(\"playerout_match_sk\", IntegerType(), True),\n",
    "    StructField(\"battingteam_sk\", IntegerType(), True),\n",
    "    StructField(\"bowlingteam_sk\", IntegerType(), True),\n",
    "    StructField(\"keeper_catch\", BooleanType(), True),\n",
    "    StructField(\"player_out_sk\", IntegerType(), True),\n",
    "    StructField(\"matchdatesk\", DateType(), True)\n",
    "])\n",
    "ball_by_ball_df = spark.read.schema(ball_by_ball_schema).format(\"csv\").option(\"header\",\"true\").load(\"s3://ipl-data-analysis-project/Ball_By_Ball.csv\")\n",
    "     "
   ]
  },
  {
   "cell_type": "code",
   "execution_count": 0,
   "metadata": {
    "application/vnd.databricks.v1+cell": {
     "cellMetadata": {
      "byteLimit": 2048000,
      "rowLimit": 10000
     },
     "inputWidgets": {},
     "nuid": "50d500d0-fe78-44a8-8bf8-bd3d908b6145",
     "showTitle": false,
     "title": ""
    }
   },
   "outputs": [
    {
     "output_type": "stream",
     "name": "stdout",
     "output_type": "stream",
     "text": [
      "+--------+-------+-------+----------+------------+------------+------------------------+----------+-----------+----------+-----+-------+----+-------+-------+-------------+--------------+------+------+-------+----+------------+-------+-----------------+----------+----------------+-------------+----------+------+-------+-----------+------+----------+--------+----------------+---------+-------------------+-------------+----------------+----------+---------------+---------+------------------+--------------+--------------+------------+-------------+-----------+\n|match_id|over_id|ball_id|innings_no|team_batting|team_bowling|striker_batting_position|extra_type|runs_scored|extra_runs|wides|legbyes|byes|noballs|penalty|bowler_extras|      out_type|caught|bowled|run_out| lbw|retired_hurt|stumped|caught_and_bowled|hit_wicket|obstructingfeild|bowler_wicket|match_date|season|striker|non_striker|bowler|player_out|fielders|striker_match_sk|strikersk|nonstriker_match_sk|nonstriker_sk|fielder_match_sk|fielder_sk|bowler_match_sk|bowler_sk|playerout_match_sk|battingteam_sk|bowlingteam_sk|keeper_catch|player_out_sk|matchdatesk|\n+--------+-------+-------+----------+------------+------------+------------------------+----------+-----------+----------+-----+-------+----+-------+-------+-------------+--------------+------+------+-------+----+------------+-------+-----------------+----------+----------------+-------------+----------+------+-------+-----------+------+----------+--------+----------------+---------+-------------------+-------------+----------------+----------+---------------+---------+------------------+--------------+--------------+------------+-------------+-----------+\n|  598028|     15|      6|         1|           5|           2|                       6| No Extras|          4|         0|    0|      0|   0|      0|      0|            0|Not Applicable|  null|  null|   null|null|        null|   null|             null|      null|            null|         null|      null|  2013|    277|        104|    83|      null|    null|           20336|      276|              20333|          103|              -1|        -1|          20343|       82|                -1|             4|             1|        null|            0|       null|\n|  598028|     14|      1|         1|           5|           2|                       5| No Extras|          1|         0|    0|      0|   0|      0|      0|            0|Not Applicable|  null|  null|   null|null|        null|   null|             null|      null|            null|         null|      null|  2013|    104|          6|   346|      null|    null|           20333|      103|              20328|            5|              -1|        -1|          20348|      345|                -1|             4|             1|        null|            0|       null|\n|  598028|     14|      2|         1|           5|           2|                       3| No Extras|          1|         0|    0|      0|   0|      0|      0|            0|Not Applicable|  null|  null|   null|null|        null|   null|             null|      null|            null|         null|      null|  2013|      6|        104|   346|      null|    null|           20328|        5|              20333|          103|              -1|        -1|          20348|      345|                -1|             4|             1|        null|            0|       null|\n|  598028|     14|      3|         1|           5|           2|                       5| No Extras|          1|         0|    0|      0|   0|      0|      0|            0|Not Applicable|  null|  null|   null|null|        null|   null|             null|      null|            null|         null|      null|  2013|    104|          6|   346|      null|    null|           20333|      103|              20328|            5|              -1|        -1|          20348|      345|                -1|             4|             1|        null|            0|       null|\n|  598028|     14|      4|         1|           5|           2|                       3| No Extras|          0|         0|    0|      0|   0|      0|      0|            0|Not Applicable|  null|  null|   null|null|        null|   null|             null|      null|            null|         null|      null|  2013|      6|        104|   346|      null|    null|           20328|        5|              20333|          103|              -1|        -1|          20348|      345|                -1|             4|             1|        null|            0|       null|\n+--------+-------+-------+----------+------------+------------+------------------------+----------+-----------+----------+-----+-------+----+-------+-------+-------------+--------------+------+------+-------+----+------------+-------+-----------------+----------+----------------+-------------+----------+------+-------+-----------+------+----------+--------+----------------+---------+-------------------+-------------+----------------+----------+---------------+---------+------------------+--------------+--------------+------------+-------------+-----------+\nonly showing top 5 rows\n\n"
     ]
    }
   ],
   "source": [
    "ball_by_ball_df.show(5)"
   ]
  },
  {
   "cell_type": "code",
   "execution_count": 0,
   "metadata": {
    "application/vnd.databricks.v1+cell": {
     "cellMetadata": {
      "byteLimit": 2048000,
      "rowLimit": 10000
     },
     "inputWidgets": {},
     "nuid": "b00b55c3-c939-4f16-9d51-9952e421b046",
     "showTitle": false,
     "title": ""
    }
   },
   "outputs": [],
   "source": [
    "#import match csv\n",
    "\n",
    "match_schema = StructType([\n",
    "    StructField(\"match_sk\", IntegerType(), True),\n",
    "    StructField(\"match_id\", IntegerType(), True),\n",
    "    StructField(\"team1\", StringType(), True),\n",
    "    StructField(\"team2\", StringType(), True),\n",
    "    StructField(\"match_date\", DateType(), True),\n",
    "    StructField(\"season_year\", IntegerType(), True),\n",
    "    StructField(\"venue_name\", StringType(), True),\n",
    "    StructField(\"city_name\", StringType(), True),\n",
    "    StructField(\"country_name\", StringType(), True),\n",
    "    StructField(\"toss_winner\", StringType(), True),\n",
    "    StructField(\"match_winner\", StringType(), True),\n",
    "    StructField(\"toss_name\", StringType(), True),\n",
    "    StructField(\"win_type\", StringType(), True),\n",
    "    StructField(\"outcome_type\", StringType(), True),\n",
    "    StructField(\"manofmach\", StringType(), True),\n",
    "    StructField(\"win_margin\", IntegerType(), True),\n",
    "    StructField(\"country_id\", IntegerType(), True)\n",
    "])\n",
    "match_df = spark.read.schema(match_schema).format(\"csv\").option(\"header\",\"true\").load(\"s3://ipl-data-analysis-project/Match.csv\")\n"
   ]
  },
  {
   "cell_type": "code",
   "execution_count": 0,
   "metadata": {
    "application/vnd.databricks.v1+cell": {
     "cellMetadata": {
      "byteLimit": 2048000,
      "rowLimit": 10000
     },
     "inputWidgets": {},
     "nuid": "73f300f5-b56c-4b8d-a269-05b8ce9d3af8",
     "showTitle": false,
     "title": ""
    }
   },
   "outputs": [],
   "source": [
    "#import player csv \n",
    "\n",
    "player_schema = StructType([\n",
    "    StructField(\"player_sk\", IntegerType(), True),\n",
    "    StructField(\"player_id\", IntegerType(), True),\n",
    "    StructField(\"player_name\", StringType(), True),\n",
    "    StructField(\"dob\", DateType(), True),\n",
    "    StructField(\"batting_hand\", StringType(), True),\n",
    "    StructField(\"bowling_skill\", StringType(), True),\n",
    "    StructField(\"country_name\", StringType(), True)\n",
    "])\n",
    "\n",
    "player_df = spark.read.schema(player_schema).format(\"csv\").option(\"header\",\"true\").load(\"s3://ipl-data-analysis-project/Player.csv\")\n"
   ]
  },
  {
   "cell_type": "code",
   "execution_count": 0,
   "metadata": {
    "application/vnd.databricks.v1+cell": {
     "cellMetadata": {
      "byteLimit": 2048000,
      "rowLimit": 10000
     },
     "inputWidgets": {},
     "nuid": "7922c324-561c-4ad5-9863-76dedde4d91c",
     "showTitle": false,
     "title": ""
    }
   },
   "outputs": [],
   "source": [
    "#import player match csv\n",
    "\n",
    "player_match_schema = StructType([\n",
    "    StructField(\"player_match_sk\", IntegerType(), True),\n",
    "    StructField(\"playermatch_key\", DecimalType(), True),\n",
    "    StructField(\"match_id\", IntegerType(), True),\n",
    "    StructField(\"player_id\", IntegerType(), True),\n",
    "    StructField(\"player_name\", StringType(), True),\n",
    "    StructField(\"dob\", DateType(), True),\n",
    "    StructField(\"batting_hand\", StringType(), True),\n",
    "    StructField(\"bowling_skill\", StringType(), True),\n",
    "    StructField(\"country_name\", StringType(), True),\n",
    "    StructField(\"role_desc\", StringType(), True),\n",
    "    StructField(\"player_team\", StringType(), True),\n",
    "    StructField(\"opposit_team\", StringType(), True),\n",
    "    StructField(\"season_year\", IntegerType(), True),\n",
    "    StructField(\"is_manofthematch\", BooleanType(), True),\n",
    "    StructField(\"age_as_on_match\", IntegerType(), True),\n",
    "    StructField(\"isplayers_team_won\", BooleanType(), True),\n",
    "    StructField(\"batting_status\", StringType(), True),\n",
    "    StructField(\"bowling_status\", StringType(), True),\n",
    "    StructField(\"player_captain\", StringType(), True),\n",
    "    StructField(\"opposit_captain\", StringType(), True),\n",
    "    StructField(\"player_keeper\", StringType(), True),\n",
    "    StructField(\"opposit_keeper\", StringType(), True)\n",
    "])\n",
    "\n",
    "player_match_df = spark.read.schema(player_match_schema).format(\"csv\").option(\"header\",\"true\").load(\"s3://ipl-data-analysis-project/Player_match.csv\")\n"
   ]
  },
  {
   "cell_type": "code",
   "execution_count": 0,
   "metadata": {
    "application/vnd.databricks.v1+cell": {
     "cellMetadata": {
      "byteLimit": 2048000,
      "rowLimit": 10000
     },
     "inputWidgets": {},
     "nuid": "044532d1-4566-4ff3-bcd9-432f9eefc3bf",
     "showTitle": false,
     "title": ""
    }
   },
   "outputs": [],
   "source": [
    "#import team csv \n",
    "\n",
    "team_schema = StructType([\n",
    "    StructField(\"team_sk\", IntegerType(), True),\n",
    "    StructField(\"team_id\", IntegerType(), True),\n",
    "    StructField(\"team_name\", StringType(), True)\n",
    "])\n",
    "\n",
    "team_df = spark.read.schema(team_schema).format(\"csv\").option(\"header\",\"true\").load(\"s3://ipl-data-analysis-project/Team.csv\")\n",
    "  "
   ]
  },
  {
   "cell_type": "code",
   "execution_count": 0,
   "metadata": {
    "application/vnd.databricks.v1+cell": {
     "cellMetadata": {
      "byteLimit": 2048000,
      "rowLimit": 10000
     },
     "inputWidgets": {},
     "nuid": "f4550dd7-75c6-4bd9-94e3-92784a25bcd4",
     "showTitle": false,
     "title": ""
    }
   },
   "outputs": [],
   "source": [
    "from pyspark.sql.functions import col, when, sum, avg, row_number \n",
    "from pyspark.sql.window import Window\n",
    "\n",
    "#BUSINESS REQUIREMENT 1: FILTER DATA TO INCLUDE ONLY VALID DELIVERIES (EXCLUDE WIDES AND NO BALLS)\n",
    "\n",
    "ball_by_ball_df=ball_by_ball_df.filter((col(\"wides\")==0) & (col(\"noballs\")==0))"
   ]
  },
  {
   "cell_type": "code",
   "execution_count": 0,
   "metadata": {
    "application/vnd.databricks.v1+cell": {
     "cellMetadata": {
      "byteLimit": 2048000,
      "rowLimit": 10000
     },
     "inputWidgets": {},
     "nuid": "e6d8f67f-91f7-46d3-9f7a-5b90b4314293",
     "showTitle": false,
     "title": ""
    }
   },
   "outputs": [],
   "source": [
    "#BUSINESS REQUIREMENT2: CALCULATE TOTAL AND AVG RUN SCORED IN EACH MATCH AND INNING \n",
    "\n",
    "total_runs=ball_by_ball_df.groupBy(\"match_id\",\"innings_no\").agg(\n",
    "    sum(\"runs_scored\").alias(\"total_runs\"),\n",
    "    avg(\"runs_scored\").alias(\"average_runs\")\n",
    ")\n"
   ]
  },
  {
   "cell_type": "code",
   "execution_count": 0,
   "metadata": {
    "application/vnd.databricks.v1+cell": {
     "cellMetadata": {
      "byteLimit": 2048000,
      "rowLimit": 10000
     },
     "inputWidgets": {},
     "nuid": "10202195-9c90-4bc0-9c61-d6f0225bafe3",
     "showTitle": false,
     "title": ""
    }
   },
   "outputs": [],
   "source": [
    "#BUSINESS REQUIREMENT3: CALCULATE RUNNING TOTAL IN EACH MATCH FOR EACH OVER \n",
    "\n",
    "windowSpec = Window.partitionBy(\"match_id\",\"innings_no\").orderBy(\"over_id\")\n",
    "\n",
    "#adding a new column \n",
    "\n",
    "ball_by_ball_df = ball_by_ball_df.withColumn(\n",
    "    \"running_total_runs\",\n",
    "    sum(\"runs_scored\").over(windowSpec)\n",
    ")\n"
   ]
  },
  {
   "cell_type": "code",
   "execution_count": 0,
   "metadata": {
    "application/vnd.databricks.v1+cell": {
     "cellMetadata": {
      "byteLimit": 2048000,
      "rowLimit": 10000
     },
     "inputWidgets": {},
     "nuid": "a05e6b1d-455d-4919-9d8a-8650a52dc6e2",
     "showTitle": false,
     "title": ""
    }
   },
   "outputs": [],
   "source": [
    "#BUSINESS REQUIREMENT4: Flag for high impact balls (either a wicket or more than 6 runs including extras)\n",
    "\n",
    "ball_by_ball_df = ball_by_ball_df.withColumn(\n",
    "    \"high_impact\",\n",
    "    when((col(\"runs_scored\") + col(\"extra_runs\") > 6) | (col(\"bowler_wicket\") == True), True).otherwise(False)\n",
    ") "
   ]
  },
  {
   "cell_type": "code",
   "execution_count": 0,
   "metadata": {
    "application/vnd.databricks.v1+cell": {
     "cellMetadata": {
      "byteLimit": 2048000,
      "rowLimit": 10000
     },
     "inputWidgets": {},
     "nuid": "36d3c2d4-e0eb-4ace-98fc-0d489fc34d19",
     "showTitle": false,
     "title": ""
    }
   },
   "outputs": [
    {
     "output_type": "stream",
     "name": "stdout",
     "output_type": "stream",
     "text": [
      "+--------+-------+-------+----------+------------+------------+------------------------+----------+-----------+----------+-----+-------+----+-------+-------+-------------+--------------+------+------+-------+----+------------+-------+-----------------+----------+----------------+-------------+----------+------+-------+-----------+------+----------+--------+----------------+---------+-------------------+-------------+----------------+----------+---------------+---------+------------------+--------------+--------------+------------+-------------+-----------+------------------+-----------+\n|match_id|over_id|ball_id|innings_no|team_batting|team_bowling|striker_batting_position|extra_type|runs_scored|extra_runs|wides|legbyes|byes|noballs|penalty|bowler_extras|      out_type|caught|bowled|run_out| lbw|retired_hurt|stumped|caught_and_bowled|hit_wicket|obstructingfeild|bowler_wicket|match_date|season|striker|non_striker|bowler|player_out|fielders|striker_match_sk|strikersk|nonstriker_match_sk|nonstriker_sk|fielder_match_sk|fielder_sk|bowler_match_sk|bowler_sk|playerout_match_sk|battingteam_sk|bowlingteam_sk|keeper_catch|player_out_sk|matchdatesk|running_total_runs|high_impact|\n+--------+-------+-------+----------+------------+------------+------------------------+----------+-----------+----------+-----+-------+----+-------+-------+-------------+--------------+------+------+-------+----+------------+-------+-----------------+----------+----------------+-------------+----------+------+-------+-----------+------+----------+--------+----------------+---------+-------------------+-------------+----------------+----------+---------------+---------+------------------+--------------+--------------+------------+-------------+-----------+------------------+-----------+\n|  335987|      1|      1|         1|           1|           2|                       1|   legbyes|          0|         1|    0|      1|   0|      0|      0|            0|Not Applicable|  null|  null|   null|null|        null|   null|             null|      null|            null|         null|      null|  2008|      1|          2|    14|      null|    null|           12705|        0|              12706|            1|              -1|        -1|          12702|       13|                -1|             0|             1|        null|            0|       null|                 0|      false|\n|  335987|      1|      2|         1|           1|           2|                       2| No Extras|          0|         0|    0|      0|   0|      0|      0|            0|Not Applicable|  null|  null|   null|null|        null|   null|             null|      null|            null|         null|      null|  2008|      2|          1|    14|      null|    null|           12706|        1|              12705|            0|              -1|        -1|          12702|       13|                -1|             0|             1|        null|            0|       null|                 0|      false|\n|  335987|      1|      4|         1|           1|           2|                       2| No Extras|          0|         0|    0|      0|   0|      0|      0|            0|Not Applicable|  null|  null|   null|null|        null|   null|             null|      null|            null|         null|      null|  2008|      2|          1|    14|      null|    null|           12706|        1|              12705|            0|              -1|        -1|          12702|       13|                -1|             0|             1|        null|            0|       null|                 0|      false|\n|  335987|      1|      5|         1|           1|           2|                       2| No Extras|          0|         0|    0|      0|   0|      0|      0|            0|Not Applicable|  null|  null|   null|null|        null|   null|             null|      null|            null|         null|      null|  2008|      2|          1|    14|      null|    null|           12706|        1|              12705|            0|              -1|        -1|          12702|       13|                -1|             0|             1|        null|            0|       null|                 0|      false|\n|  335987|      1|      6|         1|           1|           2|                       2| No Extras|          0|         0|    0|      0|   0|      0|      0|            0|Not Applicable|  null|  null|   null|null|        null|   null|             null|      null|            null|         null|      null|  2008|      2|          1|    14|      null|    null|           12706|        1|              12705|            0|              -1|        -1|          12702|       13|                -1|             0|             1|        null|            0|       null|                 0|      false|\n+--------+-------+-------+----------+------------+------------+------------------------+----------+-----------+----------+-----+-------+----+-------+-------+-------------+--------------+------+------+-------+----+------------+-------+-----------------+----------+----------------+-------------+----------+------+-------+-----------+------+----------+--------+----------------+---------+-------------------+-------------+----------------+----------+---------------+---------+------------------+--------------+--------------+------------+-------------+-----------+------------------+-----------+\nonly showing top 5 rows\n\n"
     ]
    }
   ],
   "source": [
    "ball_by_ball_df.show(5)"
   ]
  },
  {
   "cell_type": "code",
   "execution_count": 0,
   "metadata": {
    "application/vnd.databricks.v1+cell": {
     "cellMetadata": {
      "byteLimit": 2048000,
      "rowLimit": 10000
     },
     "inputWidgets": {},
     "nuid": "b34001c7-5237-4115-be3c-dfc65e8bcf84",
     "showTitle": false,
     "title": ""
    }
   },
   "outputs": [],
   "source": [
    "\n",
    "from pyspark.sql.functions import year, month, dayofmonth, when\n",
    "\n",
    "# BUSINESS REQUIREMENT5: Extracting year, month, and day from the match date for more detailed time-based analysis\n",
    "match_df = match_df.withColumn(\"year\", year(\"match_date\"))\n",
    "match_df = match_df.withColumn(\"month\", month(\"match_date\"))\n",
    "match_df = match_df.withColumn(\"day\", dayofmonth(\"match_date\"))\n"
   ]
  },
  {
   "cell_type": "code",
   "execution_count": 0,
   "metadata": {
    "application/vnd.databricks.v1+cell": {
     "cellMetadata": {
      "byteLimit": 2048000,
      "rowLimit": 10000
     },
     "inputWidgets": {},
     "nuid": "697432b2-93f5-4218-ae6f-2bf80e3a4b97",
     "showTitle": false,
     "title": ""
    }
   },
   "outputs": [],
   "source": [
    "#BUSINESS REQUIREMEN6: High margin win: categorizing win margins into 'high', 'medium', and 'low'T6\n",
    "\n",
    "match_df = match_df.withColumn( \"win_margin_category\",\n",
    "                               when(col(\"win_margin\") >= 100, \"High\")\n",
    "                              .when((col(\"win_margin\") >= 50) & (col(\"win_margin\") < 100), \"Medium\")\n",
    "                              .otherwise(\"Low\")\n",
    "                            )\n",
    "                            "
   ]
  },
  {
   "cell_type": "code",
   "execution_count": 0,
   "metadata": {
    "application/vnd.databricks.v1+cell": {
     "cellMetadata": {
      "byteLimit": 2048000,
      "rowLimit": 10000
     },
     "inputWidgets": {},
     "nuid": "32ddd0c0-652d-4a11-8f19-dbf44c9c60ef",
     "showTitle": false,
     "title": ""
    }
   },
   "outputs": [],
   "source": [
    "#BUSINESS REQUIREMEN7: Analyze the impact of the toss: who wins the toss and the match\n",
    "\n",
    "match_df = match_df.withColumn(\"toss_match_winner\",\n",
    "                               when(col(\"toss_winner\") == col(\"match_winner\"), \"Yes\").otherwise(\"No\")\n",
    "                               )"
   ]
  },
  {
   "cell_type": "code",
   "execution_count": 0,
   "metadata": {
    "application/vnd.databricks.v1+cell": {
     "cellMetadata": {
      "byteLimit": 2048000,
      "rowLimit": 10000
     },
     "inputWidgets": {},
     "nuid": "f28a4cfa-b587-41aa-bc82-e3bb3b8ab748",
     "showTitle": false,
     "title": ""
    }
   },
   "outputs": [
    {
     "output_type": "stream",
     "name": "stdout",
     "output_type": "stream",
     "text": [
      "+--------+--------+--------------------+--------------------+----------+-----------+--------------------+----------+------------+--------------------+--------------------+---------+--------+------------+-----------+----------+----------+----+-----+----+-------------------+-----------------+\n|match_sk|match_id|               team1|               team2|match_date|season_year|          venue_name| city_name|country_name|         toss_winner|        match_winner|toss_name|win_type|outcome_type|  manofmach|win_margin|country_id|year|month| day|win_margin_category|toss_match_winner|\n+--------+--------+--------------------+--------------------+----------+-----------+--------------------+----------+------------+--------------------+--------------------+---------+--------+------------+-----------+----------+----------+----+-----+----+-------------------+-----------------+\n|       0|  335987|Royal Challengers...|Kolkata Knight Ri...|      null|       2008|M Chinnaswamy Sta...| Bangalore|       India|Royal Challengers...|Kolkata Knight Ri...|    field|    runs|      Result|BB McCullum|       140|         1|null| null|null|               High|               No|\n|       1|  335988|     Kings XI Punjab| Chennai Super Kings|      null|       2008|Punjab Cricket As...|Chandigarh|       India| Chennai Super Kings| Chennai Super Kings|      bat|    runs|      Result| MEK Hussey|        33|         1|null| null|null|                Low|              Yes|\n|       2|  335989|    Delhi Daredevils|    Rajasthan Royals|      null|       2008|    Feroz Shah Kotla|     Delhi|       India|    Rajasthan Royals|    Delhi Daredevils|      bat| wickets|      Result|MF Maharoof|         9|         1|null| null|null|                Low|               No|\n|       3|  335990|      Mumbai Indians|Royal Challengers...|      null|       2008|    Wankhede Stadium|    Mumbai|       India|      Mumbai Indians|Royal Challengers...|      bat| wickets|      Result| MV Boucher|         5|         1|null| null|null|                Low|               No|\n|       4|  335991|Kolkata Knight Ri...|     Deccan Chargers|      null|       2008|        Eden Gardens|   Kolkata|       India|     Deccan Chargers|Kolkata Knight Ri...|      bat| wickets|      Result|  DJ Hussey|         5|         1|null| null|null|                Low|               No|\n+--------+--------+--------------------+--------------------+----------+-----------+--------------------+----------+------------+--------------------+--------------------+---------+--------+------------+-----------+----------+----------+----+-----+----+-------------------+-----------------+\nonly showing top 5 rows\n\n"
     ]
    }
   ],
   "source": [
    "match_df.show(5)"
   ]
  },
  {
   "cell_type": "code",
   "execution_count": 0,
   "metadata": {
    "application/vnd.databricks.v1+cell": {
     "cellMetadata": {
      "byteLimit": 2048000,
      "rowLimit": 10000
     },
     "inputWidgets": {},
     "nuid": "a77c9bb5-c67c-4da2-bf41-26bf1e6a1341",
     "showTitle": false,
     "title": ""
    }
   },
   "outputs": [
    {
     "output_type": "stream",
     "name": "stdout",
     "output_type": "stream",
     "text": [
      "+---------+---------+--------------+----+--------------+------------------+------------+-------------+\n|player_sk|player_id|   player_name| dob|  batting_hand|     bowling_skill|country_name|batting_style|\n+---------+---------+--------------+----+--------------+------------------+------------+-------------+\n|        0|        1|     scganguly|null| Left-hand bat|  Right-arm medium|       India|  Left-Handed|\n|        1|        2|    bbmccullum|null|Right-hand bat|  Right-arm medium| New Zealand| Right-Handed|\n|        2|        3|     rtponting|null|Right-hand bat|  Right-arm medium|   Australia| Right-Handed|\n|        3|        4|      djhussey|null|Right-hand bat|Right-arm offbreak|   Australia| Right-Handed|\n|        4|        5|mohammadhafeez|null|Right-hand bat|Right-arm offbreak|    Pakistan| Right-Handed|\n+---------+---------+--------------+----+--------------+------------------+------------+-------------+\nonly showing top 5 rows\n\n"
     ]
    }
   ],
   "source": [
    "from pyspark.sql.functions import lower, regexp_replace\n",
    "#BUSINESS REQUIREMENTS8: Normalize and clean player names\n",
    "\n",
    "player_df=player_df.withColumn(\"player_name\",lower(regexp_replace(\"player_name\",\"[^a-zA-z0-9]\",\"\")))\n",
    "\n",
    "#BUSINESS REQUIREMENTS9:Handle missing data in batting_hand and bowling_skill\n",
    "\n",
    "player_df=player_df.na.fill({\"batting_hand\":\"unkown\",\"bowling_skill\":\"unkown\"})\n",
    "\n",
    "#BUSINESS REQUIREMENTS10:Categorize players based on batting hand\n",
    "\n",
    "player_df=player_df.withColumn(\"batting_style\",\n",
    "                               when(col(\"batting_hand\").contains(\"Left\"),\"Left-Handed\").otherwise(\"Right-Handed\"))\n",
    "\n",
    "player_df.show(5)"
   ]
  },
  {
   "cell_type": "code",
   "execution_count": 0,
   "metadata": {
    "application/vnd.databricks.v1+cell": {
     "cellMetadata": {
      "byteLimit": 2048000,
      "rowLimit": 10000
     },
     "inputWidgets": {},
     "nuid": "19b6f4d1-d4a4-45ef-994e-d26d148043b1",
     "showTitle": false,
     "title": ""
    }
   },
   "outputs": [
    {
     "output_type": "stream",
     "name": "stdout",
     "output_type": "stream",
     "text": [
      "+---------+---------+-----------+----+--------------+----------------+------------+-------------+\n|player_sk|player_id|player_name| dob|  batting_hand|   bowling_skill|country_name|batting_style|\n+---------+---------+-----------+----+--------------+----------------+------------+-------------+\n|        0|        1|  scganguly|null| Left-hand bat|Right-arm medium|       India|  Left-Handed|\n|        1|        2| bbmccullum|null|Right-hand bat|Right-arm medium| New Zealand| Right-Handed|\n+---------+---------+-----------+----+--------------+----------------+------------+-------------+\nonly showing top 2 rows\n\n"
     ]
    }
   ],
   "source": [
    "from pyspark.sql.functions import col, when, current_date, expr\n",
    "\n",
    "# BUSINESS REQUIREMENT11: Add a 'veteran_status' column based on player age\n",
    "\n",
    "player_match_df = player_match_df.withColumn(\"veteran_status\",\n",
    "                                             when(col(\"age_as_on_match\") >= 35, \"Veteran\").otherwise(\"Non-Veteran\")\n",
    ")\n",
    "\n",
    "# BUSINESS REQUIREMTN12: Dynamic column to calculate years since debut       \n",
    "\n",
    "player_match_df = player_match_df.withColumn (\"years_since_debut\",\n",
    "                                              (year(current_date()) - col(\"season_year\")))\n",
    "\n",
    "player_df.show(2)"
   ]
  },
  {
   "cell_type": "code",
   "execution_count": 0,
   "metadata": {
    "application/vnd.databricks.v1+cell": {
     "cellMetadata": {
      "byteLimit": 2048000,
      "rowLimit": 10000
     },
     "inputWidgets": {},
     "nuid": "084e8bb7-1fd2-4afa-b8ab-be609951231e",
     "showTitle": false,
     "title": ""
    }
   },
   "outputs": [],
   "source": [
    "#To write sql queries converting these dataframes to sql tables\n",
    "\n",
    "ball_by_ball_df.createOrReplaceTempView(\"ball_by_ball\")\n",
    "match_df.createOrReplaceTempView(\"match\")\n",
    "player_df.createOrReplaceTempView(\"player\")\n",
    "player_match_df.createOrReplaceTempView(\"player_match\")\n",
    "team_df.createOrReplaceTempView(\"team\")"
   ]
  },
  {
   "cell_type": "code",
   "execution_count": 0,
   "metadata": {
    "application/vnd.databricks.v1+cell": {
     "cellMetadata": {
      "byteLimit": 2048000,
      "rowLimit": 10000
     },
     "inputWidgets": {},
     "nuid": "8a36947a-5bbb-4017-bb5c-b5fbb3f727ab",
     "showTitle": false,
     "title": ""
    }
   },
   "outputs": [
    {
     "output_type": "stream",
     "name": "stdout",
     "output_type": "stream",
     "text": [
      "Out[29]: ['match_id',\n 'over_id',\n 'ball_id',\n 'innings_no',\n 'team_batting',\n 'team_bowling',\n 'striker_batting_position',\n 'extra_type',\n 'runs_scored',\n 'extra_runs',\n 'wides',\n 'legbyes',\n 'byes',\n 'noballs',\n 'penalty',\n 'bowler_extras',\n 'out_type',\n 'caught',\n 'bowled',\n 'run_out',\n 'lbw',\n 'retired_hurt',\n 'stumped',\n 'caught_and_bowled',\n 'hit_wicket',\n 'obstructingfeild',\n 'bowler_wicket',\n 'match_date',\n 'season',\n 'striker',\n 'non_striker',\n 'bowler',\n 'player_out',\n 'fielders',\n 'striker_match_sk',\n 'strikersk',\n 'nonstriker_match_sk',\n 'nonstriker_sk',\n 'fielder_match_sk',\n 'fielder_sk',\n 'bowler_match_sk',\n 'bowler_sk',\n 'playerout_match_sk',\n 'battingteam_sk',\n 'bowlingteam_sk',\n 'keeper_catch',\n 'player_out_sk',\n 'matchdatesk',\n 'running_total_runs',\n 'high_impact']"
     ]
    }
   ],
   "source": [
    "ball_by_ball_df.columns"
   ]
  },
  {
   "cell_type": "code",
   "execution_count": 0,
   "metadata": {
    "application/vnd.databricks.v1+cell": {
     "cellMetadata": {
      "byteLimit": 2048000,
      "rowLimit": 10000
     },
     "inputWidgets": {},
     "nuid": "aaacad44-4d38-49d9-9019-a4c0152c6cb7",
     "showTitle": false,
     "title": ""
    }
   },
   "outputs": [],
   "source": [
    "#BUSINESS REQUIREMNT SQL QUERY1: To find top scoring batsmen \n",
    "\n",
    "top_scoring_batsmen_per_season=spark.sql(\"\"\"\n",
    "SELECT \n",
    "p.player_name,\n",
    "m.season_year,\n",
    "SUM(b.runs_scored) AS total_runs \n",
    "FROM ball_by_ball b\n",
    "JOIN match m ON b.match_id = m.match_id   \n",
    "JOIN player_match pm ON m.match_id = pm.match_id AND b.striker = pm.player_id     \n",
    "JOIN player p ON p.player_id = pm.player_id\n",
    "GROUP BY p.player_name, m.season_year\n",
    "ORDER BY m.season_year, total_runs DESC\n",
    "                                         \"\"\")"
   ]
  },
  {
   "cell_type": "code",
   "execution_count": 0,
   "metadata": {
    "application/vnd.databricks.v1+cell": {
     "cellMetadata": {
      "byteLimit": 2048000,
      "rowLimit": 10000
     },
     "inputWidgets": {},
     "nuid": "c7dac0b6-d34e-4da0-831b-a0c227aced91",
     "showTitle": false,
     "title": ""
    }
   },
   "outputs": [
    {
     "output_type": "stream",
     "name": "stdout",
     "output_type": "stream",
     "text": [
      "+------------+-----------+----------+\n| player_name|season_year|total_runs|\n+------------+-----------+----------+\n|     semarsh|       2008|       614|\n|    ggambhir|       2008|       532|\n|stjayasuriya|       2008|       508|\n|    srwatson|       2008|       463|\n|     gcsmith|       2008|       437|\n| acgilchrist|       2008|       431|\n|    ykpathan|       2008|       430|\n|     skraina|       2008|       420|\n|     msdhoni|       2008|       414|\n|     vsehwag|       2008|       399|\n+------------+-----------+----------+\nonly showing top 10 rows\n\n"
     ]
    }
   ],
   "source": [
    "top_scoring_batsmen_per_season.show(10)"
   ]
  },
  {
   "cell_type": "code",
   "execution_count": 0,
   "metadata": {
    "application/vnd.databricks.v1+cell": {
     "cellMetadata": {
      "byteLimit": 2048000,
      "rowLimit": 10000
     },
     "inputWidgets": {},
     "nuid": "40c8d3ac-a4cf-4698-8259-b6f272fe3650",
     "showTitle": false,
     "title": ""
    }
   },
   "outputs": [],
   "source": [
    "#BUSINESS REQUIREMNT SQL QUERY2: To find bowlers \n",
    "\n",
    "economical_bowlers_powerplay = spark.sql(\"\"\"\n",
    "SELECT \n",
    "p.player_name, \n",
    "AVG(b.runs_scored) AS avg_runs_per_ball, \n",
    "COUNT(b.bowler_wicket) AS total_wickets\n",
    "FROM ball_by_ball b\n",
    "JOIN player_match pm ON b.match_id = pm.match_id AND b.bowler = pm.player_id\n",
    "JOIN player p ON pm.player_id = p.player_id\n",
    "WHERE b.over_id <= 6\n",
    "GROUP BY p.player_name\n",
    "HAVING COUNT(*) >= 1\n",
    "ORDER BY avg_runs_per_ball, total_wickets DESC\n",
    "\"\"\")\n",
    "\n"
   ]
  },
  {
   "cell_type": "code",
   "execution_count": 0,
   "metadata": {
    "application/vnd.databricks.v1+cell": {
     "cellMetadata": {
      "byteLimit": 2048000,
      "rowLimit": 10000
     },
     "inputWidgets": {},
     "nuid": "aeb29c64-b726-4778-9eff-a6de1a10eb49",
     "showTitle": false,
     "title": ""
    }
   },
   "outputs": [
    {
     "output_type": "stream",
     "name": "stdout",
     "output_type": "stream",
     "text": [
      "+-----------+------------------+-------------+\n|player_name| avg_runs_per_ball|total_wickets|\n+-----------+------------------+-------------+\n|  smharwood|0.3333333333333333|            0|\n|  ankitsoni|               0.5|            0|\n|   grnapier|               0.5|            0|\n|    ajfinch|               0.5|            0|\n|     azampa|               0.5|            0|\n|  aveshkhan|               0.5|            0|\n|    nbsingh|0.5833333333333334|            0|\n|  agmurtaza|0.6538461538461539|            0|\n|   sbbangar|0.6666666666666666|            0|\n|   ddupreez|0.6666666666666666|            0|\n+-----------+------------------+-------------+\nonly showing top 10 rows\n\n"
     ]
    }
   ],
   "source": [
    "economical_bowlers_powerplay.show(10)"
   ]
  },
  {
   "cell_type": "code",
   "execution_count": 0,
   "metadata": {
    "application/vnd.databricks.v1+cell": {
     "cellMetadata": {
      "byteLimit": 2048000,
      "rowLimit": 10000
     },
     "inputWidgets": {},
     "nuid": "9b7efe38-acfc-4fb3-ba7a-b03b81c69c99",
     "showTitle": false,
     "title": ""
    }
   },
   "outputs": [],
   "source": [
    "#BUSSINESS REQUIREMENT SQL QUERY3: Find Toss impact\n",
    "\n",
    "toss_impact_individual_matches = spark.sql(\"\"\"\n",
    "SELECT m.match_id, m.toss_winner, m.toss_name, m.match_winner,\n",
    "       CASE WHEN m.toss_winner = m.match_winner THEN 'Won' ELSE 'Lost' END AS match_outcome\n",
    "FROM match m\n",
    "WHERE m.toss_name IS NOT NULL\n",
    "ORDER BY m.match_id\n",
    "\"\"\")\n"
   ]
  },
  {
   "cell_type": "code",
   "execution_count": 0,
   "metadata": {
    "application/vnd.databricks.v1+cell": {
     "cellMetadata": {
      "byteLimit": 2048000,
      "rowLimit": 10000
     },
     "inputWidgets": {},
     "nuid": "a95265c7-786d-4c17-afcf-39deab303290",
     "showTitle": false,
     "title": ""
    }
   },
   "outputs": [
    {
     "output_type": "stream",
     "name": "stdout",
     "output_type": "stream",
     "text": [
      "+--------+--------------------+---------+--------------------+-------------+\n|match_id|         toss_winner|toss_name|        match_winner|match_outcome|\n+--------+--------------------+---------+--------------------+-------------+\n|  335987|Royal Challengers...|    field|Kolkata Knight Ri...|         Lost|\n|  335988| Chennai Super Kings|      bat| Chennai Super Kings|          Won|\n|  335989|    Rajasthan Royals|      bat|    Delhi Daredevils|         Lost|\n|  335990|      Mumbai Indians|      bat|Royal Challengers...|         Lost|\n|  335991|     Deccan Chargers|      bat|Kolkata Knight Ri...|         Lost|\n|  335992|     Kings XI Punjab|      bat|    Rajasthan Royals|         Lost|\n|  335993|     Deccan Chargers|      bat|    Delhi Daredevils|         Lost|\n|  335994|      Mumbai Indians|    field| Chennai Super Kings|         Lost|\n|  335995|    Rajasthan Royals|    field|    Rajasthan Royals|          Won|\n|  335996|      Mumbai Indians|    field|     Kings XI Punjab|         Lost|\n+--------+--------------------+---------+--------------------+-------------+\nonly showing top 10 rows\n\n"
     ]
    }
   ],
   "source": [
    "toss_impact_individual_matches.show(10)\n"
   ]
  },
  {
   "cell_type": "code",
   "execution_count": 0,
   "metadata": {
    "application/vnd.databricks.v1+cell": {
     "cellMetadata": {
      "byteLimit": 2048000,
      "rowLimit": 10000
     },
     "inputWidgets": {},
     "nuid": "53192fcc-0c79-4150-b4a5-0fe666fc5191",
     "showTitle": false,
     "title": ""
    }
   },
   "outputs": [],
   "source": [
    "#VISUALIZATION\n",
    "\n",
    "import matplotlib.pyplot as plt"
   ]
  },
  {
   "cell_type": "code",
   "execution_count": 0,
   "metadata": {
    "application/vnd.databricks.v1+cell": {
     "cellMetadata": {
      "byteLimit": 2048000,
      "rowLimit": 10000
     },
     "inputWidgets": {},
     "nuid": "17be1a81-9762-44c9-96e7-5957c4cfc68b",
     "showTitle": false,
     "title": ""
    }
   },
   "outputs": [
    {
     "output_type": "display_data",
     "data": {
      "image/png": "[encoded data removed]"
     },
     "metadata": {
      "application/vnd.databricks.v1+output": {
       "addedWidgets": {},
       "arguments": {},
       "data": "data:image/png;base64,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\n",
       "datasetInfos": [],
       "metadata": {},
       "removedWidgets": [],
       "type": "image"
      }
     },
     "output_type": "display_data"
    }
   ],
   "source": [
    "# convert the sql table back to dataframe to plot\n",
    "\n",
    "economical_bowlers_pd = economical_bowlers_powerplay.toPandas()\n",
    "\n",
    "# Visualizing using Matplotlib\n",
    "#basic plotting: economical_bowlers_pd.plot(kind=\"bar\",figsize=(12,6))\n",
    "\n",
    "#creating a plot for top 10 bowlers with aveg runs per ball\n",
    "top_economical_bowlers = economical_bowlers_pd.nsmallest(10, 'avg_runs_per_ball')\n",
    "plt.bar(top_economical_bowlers['player_name'], top_economical_bowlers['avg_runs_per_ball'], color='skyblue')\n",
    "plt.xlabel('Bowler Name')\n",
    "plt.ylabel('Average Runs per Ball')\n",
    "plt.title('Most Economical Bowlers in Powerplay Overs (Top 10)')\n",
    "plt.xticks(rotation=45)\n",
    "plt.tight_layout()\n",
    "plt.show()\n",
    "\n"
   ]
  },
  {
   "cell_type": "code",
   "execution_count": 0,
   "metadata": {
    "application/vnd.databricks.v1+cell": {
     "cellMetadata": {
      "byteLimit": 2048000,
      "rowLimit": 10000
     },
     "inputWidgets": {},
     "nuid": "f6790471-7199-41db-8425-db6b064cb37a",
     "showTitle": false,
     "title": ""
    }
   },
   "outputs": [
    {
     "output_type": "display_data",
     "data": {
      "image/png": "[encoded data removed]"
     },
     "metadata": {
      "application/vnd.databricks.v1+output": {
       "addedWidgets": {},
       "arguments": {},
       "data": "data:image/png;base64,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\n",
       "datasetInfos": [],
       "metadata": {},
       "removedWidgets": [],
       "type": "image"
      }
     },
     "output_type": "display_data"
    }
   ],
   "source": [
    "import seaborn as sns\n",
    "\n",
    "toss_impact_pd = toss_impact_individual_matches.toPandas()\n",
    "\n",
    "# Creating a countplot to show win/loss after winning toss\n",
    "plt.figure(figsize=(10, 6))\n",
    "sns.countplot(x='toss_winner', hue='match_outcome', data=toss_impact_pd)\n",
    "plt.title('Impact of Winning Toss on Match Outcomes')\n",
    "plt.xlabel('Toss Winner')\n",
    "plt.ylabel('Number of Matches')\n",
    "plt.legend(title='Match Outcome')\n",
    "plt.xticks(rotation=45)\n",
    "plt.tight_layout()\n",
    "plt.show()\n"
   ]
  },
  {
   "cell_type": "code",
   "execution_count": 0,
   "metadata": {
    "application/vnd.databricks.v1+cell": {
     "cellMetadata": {},
     "inputWidgets": {},
     "nuid": "18684185-9e77-47c5-8dd1-c86f5373a28a",
     "showTitle": false,
     "title": ""
    }
   },
   "outputs": [],
   "source": []
  }
 ],
 "metadata": {
  "application/vnd.databricks.v1+notebook": {
   "dashboards": [],
   "environmentMetadata": null,
   "language": "python",
   "notebookMetadata": {
    "pythonIndentUnit": 4
   },
   "notebookName": "IPL DATA ANALYSIS",
   "widgets": {}
  }
 },
 "nbformat": 4,
 "nbformat_minor": 0
}
